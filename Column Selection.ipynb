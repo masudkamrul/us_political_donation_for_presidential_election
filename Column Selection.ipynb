{
 "cells": [
  {
   "cell_type": "code",
   "execution_count": 3,
   "id": "1a8f0b0c",
   "metadata": {},
   "outputs": [],
   "source": [
    "import pandas as pd"
   ]
  },
  {
   "cell_type": "code",
   "execution_count": 9,
   "id": "edee67a8",
   "metadata": {},
   "outputs": [],
   "source": [
    "# All the columns which will be removed from every dataset\n",
    "column_to_drop_by_name = [\"report_type\",\n",
    "\"image_number\",\n",
    "\"line_number\",\n",
    "\"file_number\",\n",
    "\"committee_name\",\n",
    "\"entity_type\",\n",
    "\"unused_contbr_id\",\n",
    "\"contributor_prefix\",\n",
    "\"recipient_committee_type\",\n",
    "\"recipient_committee_org_type\",\n",
    "\"recipient_committee_designation\",\n",
    "\"contributor_first_name\",\n",
    "\"contributor_middle_name\",\n",
    "\"contributor_last_name\",\n",
    "\"contributor_suffix\",\n",
    "\"contributor_street_1\",\n",
    "\"contributor_street_2\",\n",
    "\"receipt_type\",\n",
    "\"receipt_type_desc\",\n",
    "\"receipt_type_full\",\n",
    "\"memo_code\",\n",
    "\"memo_code_full\",\n",
    "\"candidate_id\",\n",
    "\"candidate_name\",\n",
    "\"candidate_first_name\",\n",
    "\"candidate_last_name\",\n",
    "\"candidate_middle_name\",\n",
    "\"candidate_prefix\",\n",
    "\"candidate_suffix\",\n",
    "\"candidate_office\",\n",
    "\"candidate_office_full\",\n",
    "\"candidate_office_state\",\n",
    "\"candidate_office_state_full\",\n",
    "\"candidate_office_district\",\n",
    "\"conduit_committee_id\",\n",
    "\"conduit_committee_name\",\n",
    "\"conduit_committee_street1\",\n",
    "\"conduit_committee_street2\",\n",
    "\"conduit_committee_city\",\n",
    "\"conduit_committee_state\",\n",
    "\"conduit_committee_zip\",\n",
    "\"donor_committee_name\",\n",
    "\"national_committee_nonfederal_account\",\n",
    "\"election_type\",\n",
    "\"election_type_full\",\n",
    "\"fec_election_year\",\n",
    "\"amendment_indicator\",\n",
    "\"schedule_type_full\",\n",
    "\"load_date\",\n",
    "\"original_sub_id\",\n",
    "\"back_reference_transaction_id\",\n",
    "\"back_reference_schedule_name\",\n",
    "\"filing_form\",\n",
    "\"link_id\",\n",
    "\"is_individual\",\n",
    "\"memo_text\",\n",
    "\"two_year_transaction_period\",\n",
    "\"schedule_type\",\n",
    "\"increased_limit\",\n",
    "\"sub_id\",\n",
    "\"pdf_url\",\n",
    "\"line_number_label\"]"
   ]
  },
  {
   "cell_type": "code",
   "execution_count": 10,
   "id": "5ff6a2a2",
   "metadata": {},
   "outputs": [],
   "source": [
    "column_to_drop = [3,  4,  5,  7,  8,  9, 11, 12, 14, 15, 16, 17, 18, \n",
    "                  19, 20, 21, 22, 25, 29, 30, 31, 32, 33, 37, 38, 39, \n",
    "                  40, 41, 42, 43, 44, 45, 46, 47, 48, 49, 50, 51, 52, \n",
    "                  53, 54, 55, 56, 57, 58, 59, 61, 62, 64, 65, 66, 67, \n",
    "                  68, 69, 70, 71, 72, 73, 74, 75, 76, 77, 78]"
   ]
  },
  {
   "cell_type": "markdown",
   "id": "fedd5cbc",
   "metadata": {},
   "source": [
    "## DEC 2019 Dataset"
   ]
  },
  {
   "cell_type": "code",
   "execution_count": 11,
   "id": "e9bd03ee",
   "metadata": {},
   "outputs": [
    {
     "name": "stderr",
     "output_type": "stream",
     "text": [
      "C:\\Users\\masud\\AppData\\Local\\Temp\\ipykernel_18452\\1209335137.py:2: DtypeWarning: Columns (12,25,37,38,39,40,44,45,46,47,50,51,53,54,56,59) have mixed types. Specify dtype option on import or set low_memory=False.\n",
      "  dec1 = pd.read_csv(\"1) Dec 2019 - 1.csv\")\n",
      "C:\\Users\\masud\\AppData\\Local\\Temp\\ipykernel_18452\\1209335137.py:3: DtypeWarning: Columns (6,12,25,31,32,37,38,39,40,41,44,45,46,47,50,51,53,54,56,59,67,68,72) have mixed types. Specify dtype option on import or set low_memory=False.\n",
      "  dec2 = pd.read_csv(\"1) Dec 2019 - 2.csv\")\n"
     ]
    }
   ],
   "source": [
    "# Importing December 2019 Dataset\n",
    "dec1 = pd.read_csv(\"1) Dec 2019 - 1.csv\")\n",
    "dec2 = pd.read_csv(\"1) Dec 2019 - 2.csv\")"
   ]
  },
  {
   "cell_type": "code",
   "execution_count": 13,
   "id": "5a3f1ad5",
   "metadata": {},
   "outputs": [],
   "source": [
    "# Remove All unnecessary Column\n",
    "dec1 = dec1.drop(dec1.columns[column_to_drop], axis=1)\n",
    "dec2 = dec2.drop(dec2.columns[column_to_drop], axis=1)"
   ]
  },
  {
   "cell_type": "code",
   "execution_count": 16,
   "id": "c56e5018",
   "metadata": {},
   "outputs": [],
   "source": [
    "# Write Dataset \n",
    "dec1.to_csv(r'D:\\PROJECT\\Political Contribution Data Summary\\President (2019-2020)\\New folder\\Cleaned File\\1)_dec1.csv', index=False)\n",
    "\n",
    "dec2.to_csv(r'D:\\PROJECT\\Political Contribution Data Summary\\President (2019-2020)\\New folder\\Cleaned File\\1)_dec2.csv', index=False)"
   ]
  },
  {
   "cell_type": "markdown",
   "id": "7e0e97ff",
   "metadata": {},
   "source": [
    "# JAN 2020 Dataset"
   ]
  },
  {
   "cell_type": "code",
   "execution_count": 17,
   "id": "0527470e",
   "metadata": {},
   "outputs": [
    {
     "name": "stderr",
     "output_type": "stream",
     "text": [
      "C:\\Users\\masud\\AppData\\Local\\Temp\\ipykernel_18452\\1230774060.py:2: DtypeWarning: Columns (6,12,25,31,32,37,50,51,53,54,59) have mixed types. Specify dtype option on import or set low_memory=False.\n",
      "  jan1 = pd.read_csv(\"2) Jan 2020 - 1.csv\")\n",
      "C:\\Users\\masud\\AppData\\Local\\Temp\\ipykernel_18452\\1230774060.py:3: DtypeWarning: Columns (5,6,11,12,25,28,31,32,37,38,39,40,44,45,50,51,53,54,59,67,68,72) have mixed types. Specify dtype option on import or set low_memory=False.\n",
      "  jan2 = pd.read_csv(\"2) Jan 2020 - 2.csv\")\n"
     ]
    }
   ],
   "source": [
    "# Importing January 2020 Dataset\n",
    "jan1 = pd.read_csv(\"2) Jan 2020 - 1.csv\")\n",
    "jan2 = pd.read_csv(\"2) Jan 2020 - 2.csv\")"
   ]
  },
  {
   "cell_type": "code",
   "execution_count": 18,
   "id": "2c6ff89e",
   "metadata": {},
   "outputs": [],
   "source": [
    "# Remove All unnecessary Column\n",
    "jan1 = jan1.drop(jan1.columns[column_to_drop], axis=1)\n",
    "jan2 = jan2.drop(jan2.columns[column_to_drop], axis=1)"
   ]
  },
  {
   "cell_type": "code",
   "execution_count": 20,
   "id": "5c20074e",
   "metadata": {},
   "outputs": [],
   "source": [
    "# Write Dataset \n",
    "jan1.to_csv(r'D:\\PROJECT\\Political Contribution Data Summary\\President (2019-2020)\\New folder\\Cleaned File\\2)_jan1.csv', index=False)\n",
    "jan2.to_csv(r'D:\\PROJECT\\Political Contribution Data Summary\\President (2019-2020)\\New folder\\Cleaned File\\2)_jan2.csv', index=False)"
   ]
  },
  {
   "cell_type": "markdown",
   "id": "b8c1e120",
   "metadata": {},
   "source": [
    "# FEB 2020 Dataset"
   ]
  },
  {
   "cell_type": "code",
   "execution_count": 21,
   "id": "3b5cec39",
   "metadata": {},
   "outputs": [
    {
     "name": "stderr",
     "output_type": "stream",
     "text": [
      "C:\\Users\\masud\\AppData\\Local\\Temp\\ipykernel_18452\\3841915000.py:2: DtypeWarning: Columns (6,12,31,32,50,51,53,54,56,59) have mixed types. Specify dtype option on import or set low_memory=False.\n",
      "  feb1 = pd.read_csv(\"3) Feb 2020 - 1.csv\")\n",
      "C:\\Users\\masud\\AppData\\Local\\Temp\\ipykernel_18452\\3841915000.py:3: DtypeWarning: Columns (6,12,31,32,50,51,53,54,59) have mixed types. Specify dtype option on import or set low_memory=False.\n",
      "  feb2 = pd.read_csv(\"3) Feb 2020 - 2.csv\")\n",
      "C:\\Users\\masud\\AppData\\Local\\Temp\\ipykernel_18452\\3841915000.py:4: DtypeWarning: Columns (6,12,31,32,50,51,53,54,56,59) have mixed types. Specify dtype option on import or set low_memory=False.\n",
      "  feb3 = pd.read_csv(\"3) Feb 2020 - 3.csv\")\n",
      "C:\\Users\\masud\\AppData\\Local\\Temp\\ipykernel_18452\\3841915000.py:5: DtypeWarning: Columns (6,12,31,32,50,51,53,54,59) have mixed types. Specify dtype option on import or set low_memory=False.\n",
      "  feb4 = pd.read_csv(\"3) Feb 2020 - 4.csv\")\n"
     ]
    }
   ],
   "source": [
    "# Importing February 2020 Dataset\n",
    "feb1 = pd.read_csv(\"3) Feb 2020 - 1.csv\")\n",
    "feb2 = pd.read_csv(\"3) Feb 2020 - 2.csv\")\n",
    "feb3 = pd.read_csv(\"3) Feb 2020 - 3.csv\")\n",
    "feb4 = pd.read_csv(\"3) Feb 2020 - 4.csv\")"
   ]
  },
  {
   "cell_type": "code",
   "execution_count": 22,
   "id": "0ccce103",
   "metadata": {},
   "outputs": [],
   "source": [
    "# Remove All unnecessary Column\n",
    "feb1 = feb1.drop(feb1.columns[column_to_drop], axis=1)\n",
    "feb2 = feb2.drop(feb2.columns[column_to_drop], axis=1)\n",
    "feb3 = feb3.drop(feb3.columns[column_to_drop], axis=1)\n",
    "feb4 = feb4.drop(feb4.columns[column_to_drop], axis=1)"
   ]
  },
  {
   "cell_type": "code",
   "execution_count": 24,
   "id": "ee02df2d",
   "metadata": {},
   "outputs": [],
   "source": [
    "# Write Dataset \n",
    "feb1.to_csv(r'D:\\PROJECT\\Political Contribution Data Summary\\President (2019-2020)\\New folder\\Cleaned File\\3)_feb1.csv', index=False)\n",
    "feb2.to_csv(r'D:\\PROJECT\\Political Contribution Data Summary\\President (2019-2020)\\New folder\\Cleaned File\\3)_feb2.csv', index=False)\n",
    "feb3.to_csv(r'D:\\PROJECT\\Political Contribution Data Summary\\President (2019-2020)\\New folder\\Cleaned File\\3)_feb3.csv', index=False)\n",
    "feb4.to_csv(r'D:\\PROJECT\\Political Contribution Data Summary\\President (2019-2020)\\New folder\\Cleaned File\\3)_feb4.csv', index=False)"
   ]
  },
  {
   "cell_type": "markdown",
   "id": "f4d716a1",
   "metadata": {},
   "source": [
    "# MAR 2020 Dataset"
   ]
  },
  {
   "cell_type": "code",
   "execution_count": 25,
   "id": "ea706d9e",
   "metadata": {},
   "outputs": [
    {
     "name": "stderr",
     "output_type": "stream",
     "text": [
      "C:\\Users\\masud\\AppData\\Local\\Temp\\ipykernel_18452\\3782453840.py:2: DtypeWarning: Columns (6,12,31,32,50,51,53,54,56,59) have mixed types. Specify dtype option on import or set low_memory=False.\n",
      "  mar1 = pd.read_csv(\"4) Mar 2020 - 1.csv\")\n",
      "C:\\Users\\masud\\AppData\\Local\\Temp\\ipykernel_18452\\3782453840.py:3: DtypeWarning: Columns (6,12,31,32,50,51,53,54,56,59) have mixed types. Specify dtype option on import or set low_memory=False.\n",
      "  mar2 = pd.read_csv(\"4) Mar 2020 - 2.csv\")\n"
     ]
    }
   ],
   "source": [
    "# Importing January 2020 Dataset\n",
    "mar1 = pd.read_csv(\"4) Mar 2020 - 1.csv\")\n",
    "mar2 = pd.read_csv(\"4) Mar 2020 - 2.csv\")"
   ]
  },
  {
   "cell_type": "code",
   "execution_count": 26,
   "id": "d4ac5737",
   "metadata": {},
   "outputs": [],
   "source": [
    "# Remove All unnecessary Column\n",
    "mar1.drop(mar1.columns[column_to_drop], axis=1, inplace= True)\n",
    "mar2.drop(mar2.columns[column_to_drop], axis=1, inplace= True)"
   ]
  },
  {
   "cell_type": "code",
   "execution_count": 28,
   "id": "b9815e5f",
   "metadata": {},
   "outputs": [],
   "source": [
    "# Write Dataset \n",
    "mar1.to_csv(r'D:\\PROJECT\\Political Contribution Data Summary\\President (2019-2020)\\New folder\\Cleaned File\\4)_mar1.csv', index=False)\n",
    "mar2.to_csv(r'D:\\PROJECT\\Political Contribution Data Summary\\President (2019-2020)\\New folder\\Cleaned File\\4)_mar2.csv', index=False)\n"
   ]
  },
  {
   "cell_type": "markdown",
   "id": "438fd60d",
   "metadata": {},
   "source": [
    "# APR 2020 Dataset"
   ]
  },
  {
   "cell_type": "code",
   "execution_count": 31,
   "id": "26f42db1",
   "metadata": {},
   "outputs": [
    {
     "name": "stderr",
     "output_type": "stream",
     "text": [
      "C:\\Users\\masud\\AppData\\Local\\Temp\\ipykernel_18452\\1105582244.py:2: DtypeWarning: Columns (11,12,28,31,50,51,53,54,56,59,67,68,72) have mixed types. Specify dtype option on import or set low_memory=False.\n",
      "  apr1 = pd.read_csv(\"5) Apr 2020 - 1.csv\")\n",
      "C:\\Users\\masud\\AppData\\Local\\Temp\\ipykernel_18452\\1105582244.py:3: DtypeWarning: Columns (5,6,11,12,28,31,50,51,53,54,56,59,67,68,72) have mixed types. Specify dtype option on import or set low_memory=False.\n",
      "  apr2 = pd.read_csv(\"5) Apr 2020 - 2.csv\")\n"
     ]
    }
   ],
   "source": [
    "# Importing January 2020 Dataset\n",
    "apr1 = pd.read_csv(\"5) Apr 2020 - 1.csv\")\n",
    "apr2 = pd.read_csv(\"5) Apr 2020 - 2.csv\")"
   ]
  },
  {
   "cell_type": "code",
   "execution_count": 32,
   "id": "06fb0e9c",
   "metadata": {},
   "outputs": [],
   "source": [
    "# Remove All unnecessary Column\n",
    "apr1.drop(apr1.columns[column_to_drop], axis=1, inplace= True)\n",
    "apr2.drop(apr2.columns[column_to_drop], axis=1, inplace= True)"
   ]
  },
  {
   "cell_type": "code",
   "execution_count": 33,
   "id": "9b63b801",
   "metadata": {},
   "outputs": [],
   "source": [
    "# Write Dataset \n",
    "apr1.to_csv(r'D:\\PROJECT\\Political Contribution Data Summary\\President (2019-2020)\\New folder\\Cleaned File\\5)_apr1.csv', index=False)\n",
    "apr2.to_csv(r'D:\\PROJECT\\Political Contribution Data Summary\\President (2019-2020)\\New folder\\Cleaned File\\5)_apr2.csv', index=False)\n"
   ]
  },
  {
   "cell_type": "markdown",
   "id": "50d3284b",
   "metadata": {},
   "source": [
    "# MAY 2020 Dataset"
   ]
  },
  {
   "cell_type": "code",
   "execution_count": 36,
   "id": "262ef881",
   "metadata": {},
   "outputs": [
    {
     "name": "stderr",
     "output_type": "stream",
     "text": [
      "C:\\Users\\masud\\AppData\\Local\\Temp\\ipykernel_18452\\1582853388.py:2: DtypeWarning: Columns (12,37,38,39,40,41,44,45,50,51,53,54,56,59) have mixed types. Specify dtype option on import or set low_memory=False.\n",
      "  may1 = pd.read_csv(\"6) May 2020 - 1.csv\")\n",
      "C:\\Users\\masud\\AppData\\Local\\Temp\\ipykernel_18452\\1582853388.py:3: DtypeWarning: Columns (5,6,11,12,28,31,50,51,53,54,56,59,67,68,72) have mixed types. Specify dtype option on import or set low_memory=False.\n",
      "  may2 = pd.read_csv(\"6) May 2020 - 2.csv\")\n"
     ]
    }
   ],
   "source": [
    "# Importing January 2020 Dataset\n",
    "may1 = pd.read_csv(\"6) May 2020 - 1.csv\")\n",
    "may2 = pd.read_csv(\"6) May 2020 - 2.csv\")"
   ]
  },
  {
   "cell_type": "code",
   "execution_count": 37,
   "id": "de961f88",
   "metadata": {},
   "outputs": [],
   "source": [
    "# Remove All unnecessary Column\n",
    "may1.drop(may1.columns[column_to_drop], axis=1, inplace= True)\n",
    "may2.drop(may2.columns[column_to_drop], axis=1, inplace= True)"
   ]
  },
  {
   "cell_type": "code",
   "execution_count": 38,
   "id": "518b69f1",
   "metadata": {},
   "outputs": [],
   "source": [
    "# Write Dataset \n",
    "may1.to_csv(r'D:\\PROJECT\\Political Contribution Data Summary\\President (2019-2020)\\New folder\\Cleaned File\\6)_may1.csv', index=False)\n",
    "may2.to_csv(r'D:\\PROJECT\\Political Contribution Data Summary\\President (2019-2020)\\New folder\\Cleaned File\\6)_may2.csv', index=False)\n"
   ]
  },
  {
   "cell_type": "markdown",
   "id": "aca7d96d",
   "metadata": {},
   "source": [
    "# JUN 2020 Dataset"
   ]
  },
  {
   "cell_type": "code",
   "execution_count": 39,
   "id": "eacb1927",
   "metadata": {},
   "outputs": [
    {
     "name": "stderr",
     "output_type": "stream",
     "text": [
      "C:\\Users\\masud\\AppData\\Local\\Temp\\ipykernel_18452\\4022393394.py:2: DtypeWarning: Columns (5,11,28,37,38,39,40,41,44,45,50,51,53,54,56,59,67,68,72) have mixed types. Specify dtype option on import or set low_memory=False.\n",
      "  jun1 = pd.read_csv(\"7) Jun 2020 - 1.csv\")\n",
      "C:\\Users\\masud\\AppData\\Local\\Temp\\ipykernel_18452\\4022393394.py:3: DtypeWarning: Columns (5,6,11,12,28,31,50,51,53,54,56,59,67,68,72) have mixed types. Specify dtype option on import or set low_memory=False.\n",
      "  jun2 = pd.read_csv(\"7) Jun 2020 - 2.csv\")\n",
      "C:\\Users\\masud\\AppData\\Local\\Temp\\ipykernel_18452\\4022393394.py:4: DtypeWarning: Columns (5,6,11,12,28,31,37,38,39,40,41,44,45,50,51,53,54,56,59,67,68,72) have mixed types. Specify dtype option on import or set low_memory=False.\n",
      "  jun3 = pd.read_csv(\"7) Jun 2020 - 3.csv\")\n"
     ]
    }
   ],
   "source": [
    "# Importing January 2020 Dataset\n",
    "jun1 = pd.read_csv(\"7) Jun 2020 - 1.csv\")\n",
    "jun2 = pd.read_csv(\"7) Jun 2020 - 2.csv\")\n",
    "jun3 = pd.read_csv(\"7) Jun 2020 - 3.csv\")\n"
   ]
  },
  {
   "cell_type": "code",
   "execution_count": 40,
   "id": "72ddbcad",
   "metadata": {},
   "outputs": [],
   "source": [
    "# Remove All unnecessary Column\n",
    "jun1.drop(jun1.columns[column_to_drop], axis=1, inplace= True)\n",
    "jun2.drop(jun2.columns[column_to_drop], axis=1, inplace= True)\n",
    "jun3.drop(jun3.columns[column_to_drop], axis=1, inplace= True)"
   ]
  },
  {
   "cell_type": "code",
   "execution_count": 41,
   "id": "7ed26e06",
   "metadata": {},
   "outputs": [],
   "source": [
    "# Write Dataset \n",
    "jun1.to_csv(r'D:\\PROJECT\\Political Contribution Data Summary\\President (2019-2020)\\New folder\\Cleaned File\\7)_jun1.csv', index=False)\n",
    "jun2.to_csv(r'D:\\PROJECT\\Political Contribution Data Summary\\President (2019-2020)\\New folder\\Cleaned File\\7)_jun2.csv', index=False)\n",
    "jun3.to_csv(r'D:\\PROJECT\\Political Contribution Data Summary\\President (2019-2020)\\New folder\\Cleaned File\\7)_jun3.csv', index=False)\n"
   ]
  },
  {
   "cell_type": "markdown",
   "id": "bf36a3ef",
   "metadata": {},
   "source": [
    "# JUL 2020 Dataset"
   ]
  },
  {
   "cell_type": "code",
   "execution_count": 42,
   "id": "696b96f9",
   "metadata": {},
   "outputs": [
    {
     "name": "stderr",
     "output_type": "stream",
     "text": [
      "C:\\Users\\masud\\AppData\\Local\\Temp\\ipykernel_18452\\3902306827.py:2: DtypeWarning: Columns (5,6,11,12,28,31,50,51,53,54,56,59,67,68,72) have mixed types. Specify dtype option on import or set low_memory=False.\n",
      "  jul1 = pd.read_csv(\"8) Jul 2020 - 1.csv\")\n",
      "C:\\Users\\masud\\AppData\\Local\\Temp\\ipykernel_18452\\3902306827.py:3: DtypeWarning: Columns (5,6,11,12,28,31,50,51,53,54,56,59,67,68,72) have mixed types. Specify dtype option on import or set low_memory=False.\n",
      "  jul2 = pd.read_csv(\"8) Jul 2020 - 2.csv\")\n",
      "C:\\Users\\masud\\AppData\\Local\\Temp\\ipykernel_18452\\3902306827.py:4: DtypeWarning: Columns (5,6,11,12,28,31,56,59,67,68,72) have mixed types. Specify dtype option on import or set low_memory=False.\n",
      "  jul3 = pd.read_csv(\"8) Jul 2020 - 3.csv\")\n"
     ]
    }
   ],
   "source": [
    "# Importing July 2020 Dataset\n",
    "jul1 = pd.read_csv(\"8) Jul 2020 - 1.csv\")\n",
    "jul2 = pd.read_csv(\"8) Jul 2020 - 2.csv\")\n",
    "jul3 = pd.read_csv(\"8) Jul 2020 - 3.csv\")"
   ]
  },
  {
   "cell_type": "code",
   "execution_count": 43,
   "id": "013b54bf",
   "metadata": {},
   "outputs": [],
   "source": [
    "# Remove All unnecessary Column\n",
    "jul1.drop(jul1.columns[column_to_drop], axis=1, inplace= True)\n",
    "jul2.drop(jul2.columns[column_to_drop], axis=1, inplace= True)\n",
    "jul3.drop(jul3.columns[column_to_drop], axis=1, inplace= True)"
   ]
  },
  {
   "cell_type": "code",
   "execution_count": 44,
   "id": "f977bbc2",
   "metadata": {},
   "outputs": [],
   "source": [
    "# Write Dataset \n",
    "jul1.to_csv(r'D:\\PROJECT\\Political Contribution Data Summary\\President (2019-2020)\\New folder\\Cleaned File\\8)_jul1.csv', index=False)\n",
    "jul2.to_csv(r'D:\\PROJECT\\Political Contribution Data Summary\\President (2019-2020)\\New folder\\Cleaned File\\8)_jul2.csv', index=False)\n",
    "jul3.to_csv(r'D:\\PROJECT\\Political Contribution Data Summary\\President (2019-2020)\\New folder\\Cleaned File\\8)_jul3.csv', index=False)\n"
   ]
  },
  {
   "cell_type": "markdown",
   "id": "1ecf4fe3",
   "metadata": {},
   "source": [
    "# AUG 2020 Dataset"
   ]
  },
  {
   "cell_type": "code",
   "execution_count": 45,
   "id": "dc969153",
   "metadata": {},
   "outputs": [
    {
     "name": "stderr",
     "output_type": "stream",
     "text": [
      "C:\\Users\\masud\\AppData\\Local\\Temp\\ipykernel_18452\\4228348850.py:2: DtypeWarning: Columns (5,6,11,12,28,31,37,38,39,40,44,45,56,59,67,68,72) have mixed types. Specify dtype option on import or set low_memory=False.\n",
      "  aug1 = pd.read_csv(\"9) Aug 2020 - 1.csv\")\n",
      "C:\\Users\\masud\\AppData\\Local\\Temp\\ipykernel_18452\\4228348850.py:3: DtypeWarning: Columns (3,5,6,11,12,28,31,32,56,59,67,68,72) have mixed types. Specify dtype option on import or set low_memory=False.\n",
      "  aug2 = pd.read_csv(\"9) Aug 2020 - 2.csv\")\n",
      "C:\\Users\\masud\\AppData\\Local\\Temp\\ipykernel_18452\\4228348850.py:4: DtypeWarning: Columns (3,5,6,11,12,28,31,56,59,67,68,72) have mixed types. Specify dtype option on import or set low_memory=False.\n",
      "  aug3 = pd.read_csv(\"9) Aug 2020 - 3.csv\")\n",
      "C:\\Users\\masud\\AppData\\Local\\Temp\\ipykernel_18452\\4228348850.py:5: DtypeWarning: Columns (3,5,6,11,12,28,31,32,56,59,67,68,72) have mixed types. Specify dtype option on import or set low_memory=False.\n",
      "  aug4 = pd.read_csv(\"9) Aug 2020 - 4.csv\")\n",
      "C:\\Users\\masud\\AppData\\Local\\Temp\\ipykernel_18452\\4228348850.py:6: DtypeWarning: Columns (3,5,6,11,12,28,31,32,59,67,68,72) have mixed types. Specify dtype option on import or set low_memory=False.\n",
      "  aug5 = pd.read_csv(\"9) Aug 2020 - 5.csv\")\n"
     ]
    }
   ],
   "source": [
    "# Importing August 2020 Dataset\n",
    "aug1 = pd.read_csv(\"9) Aug 2020 - 1.csv\")\n",
    "aug2 = pd.read_csv(\"9) Aug 2020 - 2.csv\")\n",
    "aug3 = pd.read_csv(\"9) Aug 2020 - 3.csv\")\n",
    "aug4 = pd.read_csv(\"9) Aug 2020 - 4.csv\")\n",
    "aug5 = pd.read_csv(\"9) Aug 2020 - 5.csv\")"
   ]
  },
  {
   "cell_type": "code",
   "execution_count": 46,
   "id": "f7942504",
   "metadata": {},
   "outputs": [],
   "source": [
    "# Remove All unnecessary Column\n",
    "aug1.drop(aug1.columns[column_to_drop], axis=1, inplace= True)\n",
    "aug2.drop(aug2.columns[column_to_drop], axis=1, inplace= True)\n",
    "aug3.drop(aug3.columns[column_to_drop], axis=1, inplace= True)\n",
    "aug4.drop(aug4.columns[column_to_drop], axis=1, inplace= True)\n",
    "aug5.drop(aug5.columns[column_to_drop], axis=1, inplace= True)\n"
   ]
  },
  {
   "cell_type": "code",
   "execution_count": 47,
   "id": "50723a4a",
   "metadata": {},
   "outputs": [],
   "source": [
    "# Write Dataset \n",
    "aug1.to_csv(r'D:\\PROJECT\\Political Contribution Data Summary\\President (2019-2020)\\New folder\\Cleaned File\\9)_aug1.csv', index=False)\n",
    "aug2.to_csv(r'D:\\PROJECT\\Political Contribution Data Summary\\President (2019-2020)\\New folder\\Cleaned File\\9)_aug2.csv', index=False)\n",
    "aug3.to_csv(r'D:\\PROJECT\\Political Contribution Data Summary\\President (2019-2020)\\New folder\\Cleaned File\\9)_aug3.csv', index=False)\n",
    "aug4.to_csv(r'D:\\PROJECT\\Political Contribution Data Summary\\President (2019-2020)\\New folder\\Cleaned File\\9)_aug4.csv', index=False)\n",
    "aug5.to_csv(r'D:\\PROJECT\\Political Contribution Data Summary\\President (2019-2020)\\New folder\\Cleaned File\\9)_aug5.csv', index=False)\n"
   ]
  },
  {
   "cell_type": "markdown",
   "id": "d5989510",
   "metadata": {},
   "source": [
    "# Sep 2020 dataset"
   ]
  },
  {
   "cell_type": "code",
   "execution_count": 48,
   "id": "370cf383",
   "metadata": {},
   "outputs": [
    {
     "name": "stderr",
     "output_type": "stream",
     "text": [
      "C:\\Users\\masud\\AppData\\Local\\Temp\\ipykernel_18452\\2491971472.py:2: DtypeWarning: Columns (3,5,6,11,12,28,31,32,56,59,67,68,72) have mixed types. Specify dtype option on import or set low_memory=False.\n",
      "  sep1 = pd.read_csv(\"10) Sep 2020 - 1.csv\")\n",
      "C:\\Users\\masud\\AppData\\Local\\Temp\\ipykernel_18452\\2491971472.py:3: DtypeWarning: Columns (3,5,6,11,12,28,31,32,50,51,53,54,59,67,68,72) have mixed types. Specify dtype option on import or set low_memory=False.\n",
      "  sep2 = pd.read_csv(\"10) Sep 2020 - 2.csv\")\n",
      "C:\\Users\\masud\\AppData\\Local\\Temp\\ipykernel_18452\\2491971472.py:4: DtypeWarning: Columns (3,5,6,11,12,28,31,32,50,51,53,54,59,67,68,72) have mixed types. Specify dtype option on import or set low_memory=False.\n",
      "  sep3 = pd.read_csv(\"10) Sep 2020 - 3.csv\")\n",
      "C:\\Users\\masud\\AppData\\Local\\Temp\\ipykernel_18452\\2491971472.py:5: DtypeWarning: Columns (3,5,6,11,28,31,32,59,67,68,72) have mixed types. Specify dtype option on import or set low_memory=False.\n",
      "  sep4 = pd.read_csv(\"10) Sep 2020 - 4.csv\")\n",
      "C:\\Users\\masud\\AppData\\Local\\Temp\\ipykernel_18452\\2491971472.py:6: DtypeWarning: Columns (3,5,6,11,28,31,32,59,67,68,72) have mixed types. Specify dtype option on import or set low_memory=False.\n",
      "  sep5 = pd.read_csv(\"10) Sep 2020 - 5.csv\")\n",
      "C:\\Users\\masud\\AppData\\Local\\Temp\\ipykernel_18452\\2491971472.py:7: DtypeWarning: Columns (3,5,6,11,28,31,32,50,51,53,54,59,67,68,72) have mixed types. Specify dtype option on import or set low_memory=False.\n",
      "  sep6 = pd.read_csv(\"10) Sep 2020 - 6.csv\")\n",
      "C:\\Users\\masud\\AppData\\Local\\Temp\\ipykernel_18452\\2491971472.py:8: DtypeWarning: Columns (3,5,6,11,20,28,31,32,56,59,67,68,72) have mixed types. Specify dtype option on import or set low_memory=False.\n",
      "  sep7 = pd.read_csv(\"10) Sep 2020 - 7.csv\")\n"
     ]
    }
   ],
   "source": [
    "# Importing September 2020 Dataset\n",
    "sep1 = pd.read_csv(\"10) Sep 2020 - 1.csv\")\n",
    "sep2 = pd.read_csv(\"10) Sep 2020 - 2.csv\")\n",
    "sep3 = pd.read_csv(\"10) Sep 2020 - 3.csv\")\n",
    "sep4 = pd.read_csv(\"10) Sep 2020 - 4.csv\")\n",
    "sep5 = pd.read_csv(\"10) Sep 2020 - 5.csv\")\n",
    "sep6 = pd.read_csv(\"10) Sep 2020 - 6.csv\")\n",
    "sep7 = pd.read_csv(\"10) Sep 2020 - 7.csv\")"
   ]
  },
  {
   "cell_type": "code",
   "execution_count": 49,
   "id": "900d2bea",
   "metadata": {},
   "outputs": [],
   "source": [
    "# Remove All unnecessary Column\n",
    "sep1.drop(sep1.columns[column_to_drop], axis=1, inplace= True)\n",
    "sep2.drop(sep2.columns[column_to_drop], axis=1, inplace= True)\n",
    "sep3.drop(sep3.columns[column_to_drop], axis=1, inplace= True)\n",
    "sep4.drop(sep4.columns[column_to_drop], axis=1, inplace= True)\n",
    "sep5.drop(sep5.columns[column_to_drop], axis=1, inplace= True)\n",
    "sep6.drop(sep6.columns[column_to_drop], axis=1, inplace= True)\n",
    "sep7.drop(sep7.columns[column_to_drop], axis=1, inplace= True)"
   ]
  },
  {
   "cell_type": "code",
   "execution_count": 51,
   "id": "ab0d9e69",
   "metadata": {},
   "outputs": [],
   "source": [
    "# Write Dataset \n",
    "sep1.to_csv(r'D:\\PROJECT\\Political Contribution Data Summary\\President (2019-2020)\\New folder\\Cleaned File\\10)_sep1.csv', index=False)\n",
    "sep2.to_csv(r'D:\\PROJECT\\Political Contribution Data Summary\\President (2019-2020)\\New folder\\Cleaned File\\10)_sep2.csv', index=False)\n",
    "sep3.to_csv(r'D:\\PROJECT\\Political Contribution Data Summary\\President (2019-2020)\\New folder\\Cleaned File\\10)_sep3.csv', index=False)\n",
    "sep4.to_csv(r'D:\\PROJECT\\Political Contribution Data Summary\\President (2019-2020)\\New folder\\Cleaned File\\10)_sep4.csv', index=False)\n",
    "sep5.to_csv(r'D:\\PROJECT\\Political Contribution Data Summary\\President (2019-2020)\\New folder\\Cleaned File\\10)_sep5.csv', index=False)\n",
    "sep6.to_csv(r'D:\\PROJECT\\Political Contribution Data Summary\\President (2019-2020)\\New folder\\Cleaned File\\10)_sep6.csv', index=False)\n",
    "sep7.to_csv(r'D:\\PROJECT\\Political Contribution Data Summary\\President (2019-2020)\\New folder\\Cleaned File\\10)_sep7.csv', index=False)\n"
   ]
  },
  {
   "cell_type": "markdown",
   "id": "1b9e8dad",
   "metadata": {},
   "source": [
    "# OCT 2020 Dataset"
   ]
  },
  {
   "cell_type": "code",
   "execution_count": 52,
   "id": "a882cfe0",
   "metadata": {},
   "outputs": [
    {
     "name": "stderr",
     "output_type": "stream",
     "text": [
      "C:\\Users\\masud\\AppData\\Local\\Temp\\ipykernel_18452\\2244221092.py:2: DtypeWarning: Columns (5,6,11,28,31,32,50,51,53,54,56,59,67,68,72) have mixed types. Specify dtype option on import or set low_memory=False.\n",
      "  oct1 = pd.read_csv(\"11) Oct 2020 - 1.csv\")\n",
      "C:\\Users\\masud\\AppData\\Local\\Temp\\ipykernel_18452\\2244221092.py:3: DtypeWarning: Columns (5,6,11,28,31,32,50,51,53,54,56,59,67,68,72) have mixed types. Specify dtype option on import or set low_memory=False.\n",
      "  oct2 = pd.read_csv(\"11) Oct 2020 - 2.csv\")\n",
      "C:\\Users\\masud\\AppData\\Local\\Temp\\ipykernel_18452\\2244221092.py:4: DtypeWarning: Columns (5,6,11,28,31,32,50,51,53,54,59,67,68,72) have mixed types. Specify dtype option on import or set low_memory=False.\n",
      "  oct3 = pd.read_csv(\"11) Oct 2020 - 3.csv\")\n",
      "C:\\Users\\masud\\AppData\\Local\\Temp\\ipykernel_18452\\2244221092.py:5: DtypeWarning: Columns (5,6,11,28,31,32,50,51,53,54,56,59,67,68,72) have mixed types. Specify dtype option on import or set low_memory=False.\n",
      "  oct4 = pd.read_csv(\"11) Oct 2020 - 4.csv\")\n",
      "C:\\Users\\masud\\AppData\\Local\\Temp\\ipykernel_18452\\2244221092.py:6: DtypeWarning: Columns (5,6,11,18,20,22,28,31,32,50,51,53,54,56,59,67,68,72) have mixed types. Specify dtype option on import or set low_memory=False.\n",
      "  oct5 = pd.read_csv(\"11) Oct 2020 - 5.csv\")\n",
      "C:\\Users\\masud\\AppData\\Local\\Temp\\ipykernel_18452\\2244221092.py:7: DtypeWarning: Columns (5,6,11,18,20,22,25,28,31,32,50,51,53,54,59,67,68,72) have mixed types. Specify dtype option on import or set low_memory=False.\n",
      "  oct6 = pd.read_csv(\"11) Oct 2020 - 6.csv\")\n",
      "C:\\Users\\masud\\AppData\\Local\\Temp\\ipykernel_18452\\2244221092.py:8: DtypeWarning: Columns (5,6,11,18,20,22,28,31,32,50,51,53,54,59,67,68,72) have mixed types. Specify dtype option on import or set low_memory=False.\n",
      "  oct7 = pd.read_csv(\"11) Oct 2020 - 7.csv\")\n",
      "C:\\Users\\masud\\AppData\\Local\\Temp\\ipykernel_18452\\2244221092.py:9: DtypeWarning: Columns (5,6,11,28,31,32,50,51,53,54,59,67,68,72) have mixed types. Specify dtype option on import or set low_memory=False.\n",
      "  oct8 = pd.read_csv(\"11) Oct 2020 - 8.csv\")\n",
      "C:\\Users\\masud\\AppData\\Local\\Temp\\ipykernel_18452\\2244221092.py:10: DtypeWarning: Columns (5,6,11,28,31,32,50,51,53,54,59,67,68,72) have mixed types. Specify dtype option on import or set low_memory=False.\n",
      "  oct9 = pd.read_csv(\"11) Oct 2020 - 9.csv\")\n",
      "C:\\Users\\masud\\AppData\\Local\\Temp\\ipykernel_18452\\2244221092.py:11: DtypeWarning: Columns (5,6,11,28,31,32,50,51,53,54,59,67,68,72) have mixed types. Specify dtype option on import or set low_memory=False.\n",
      "  oct10 = pd.read_csv(\"11) Oct 2020 - 10.csv\")\n",
      "C:\\Users\\masud\\AppData\\Local\\Temp\\ipykernel_18452\\2244221092.py:12: DtypeWarning: Columns (5,6,11,28,31,32,50,51,53,54,59,67,68,72) have mixed types. Specify dtype option on import or set low_memory=False.\n",
      "  oct11 = pd.read_csv(\"11) Oct 2020 - 11.csv\")\n"
     ]
    }
   ],
   "source": [
    "# Importing October 2020 Dataset\n",
    "oct1 = pd.read_csv(\"11) Oct 2020 - 1.csv\")\n",
    "oct2 = pd.read_csv(\"11) Oct 2020 - 2.csv\")\n",
    "oct3 = pd.read_csv(\"11) Oct 2020 - 3.csv\")\n",
    "oct4 = pd.read_csv(\"11) Oct 2020 - 4.csv\")\n",
    "oct5 = pd.read_csv(\"11) Oct 2020 - 5.csv\")\n",
    "oct6 = pd.read_csv(\"11) Oct 2020 - 6.csv\")\n",
    "oct7 = pd.read_csv(\"11) Oct 2020 - 7.csv\")\n",
    "oct8 = pd.read_csv(\"11) Oct 2020 - 8.csv\")\n",
    "oct9 = pd.read_csv(\"11) Oct 2020 - 9.csv\")\n",
    "oct10 = pd.read_csv(\"11) Oct 2020 - 10.csv\")\n",
    "oct11 = pd.read_csv(\"11) Oct 2020 - 11.csv\")"
   ]
  },
  {
   "cell_type": "code",
   "execution_count": 53,
   "id": "eb433343",
   "metadata": {},
   "outputs": [],
   "source": [
    "# Remove All unnecessary Column\n",
    "oct1.drop(oct1.columns[column_to_drop], axis=1, inplace= True)\n",
    "oct2.drop(oct2.columns[column_to_drop], axis=1, inplace= True)\n",
    "oct3.drop(oct3.columns[column_to_drop], axis=1, inplace= True)\n",
    "oct4.drop(oct4.columns[column_to_drop], axis=1, inplace= True)\n",
    "oct5.drop(oct5.columns[column_to_drop], axis=1, inplace= True)\n",
    "oct6.drop(oct6.columns[column_to_drop], axis=1, inplace= True)\n",
    "oct7.drop(oct7.columns[column_to_drop], axis=1, inplace= True)\n",
    "oct8.drop(oct8.columns[column_to_drop], axis=1, inplace= True)\n",
    "oct9.drop(oct9.columns[column_to_drop], axis=1, inplace= True)\n",
    "oct10.drop(oct10.columns[column_to_drop], axis=1, inplace= True)\n",
    "oct11.drop(oct11.columns[column_to_drop], axis=1, inplace= True)"
   ]
  },
  {
   "cell_type": "code",
   "execution_count": 54,
   "id": "b5675c2a",
   "metadata": {},
   "outputs": [],
   "source": [
    "# Write Dataset \n",
    "oct1.to_csv(r'D:\\PROJECT\\Political Contribution Data Summary\\President (2019-2020)\\New folder\\Cleaned File\\11)_oct1.csv', index=False)\n",
    "oct2.to_csv(r'D:\\PROJECT\\Political Contribution Data Summary\\President (2019-2020)\\New folder\\Cleaned File\\11)_oct2.csv', index=False)\n",
    "oct3.to_csv(r'D:\\PROJECT\\Political Contribution Data Summary\\President (2019-2020)\\New folder\\Cleaned File\\11)_oct3.csv', index=False)\n",
    "oct4.to_csv(r'D:\\PROJECT\\Political Contribution Data Summary\\President (2019-2020)\\New folder\\Cleaned File\\11)_oct4.csv', index=False)\n",
    "oct5.to_csv(r'D:\\PROJECT\\Political Contribution Data Summary\\President (2019-2020)\\New folder\\Cleaned File\\11)_oct5.csv', index=False)\n",
    "oct6.to_csv(r'D:\\PROJECT\\Political Contribution Data Summary\\President (2019-2020)\\New folder\\Cleaned File\\11)_oct6.csv', index=False)\n",
    "oct7.to_csv(r'D:\\PROJECT\\Political Contribution Data Summary\\President (2019-2020)\\New folder\\Cleaned File\\11)_oct7.csv', index=False)\n",
    "oct8.to_csv(r'D:\\PROJECT\\Political Contribution Data Summary\\President (2019-2020)\\New folder\\Cleaned File\\11)_oct8.csv', index=False)\n",
    "oct9.to_csv(r'D:\\PROJECT\\Political Contribution Data Summary\\President (2019-2020)\\New folder\\Cleaned File\\11)_oct9.csv', index=False)\n",
    "oct10.to_csv(r'D:\\PROJECT\\Political Contribution Data Summary\\President (2019-2020)\\New folder\\Cleaned File\\11)_oct10.csv', index=False)\n",
    "oct11.to_csv(r'D:\\PROJECT\\Political Contribution Data Summary\\President (2019-2020)\\New folder\\Cleaned File\\11)_oct11.csv', index=False)\n",
    "\n"
   ]
  },
  {
   "cell_type": "markdown",
   "id": "bc9afb2f",
   "metadata": {},
   "source": [
    "# NOV 2020 Dataset\n"
   ]
  },
  {
   "cell_type": "code",
   "execution_count": 55,
   "id": "20263e7d",
   "metadata": {},
   "outputs": [
    {
     "name": "stderr",
     "output_type": "stream",
     "text": [
      "C:\\Users\\masud\\AppData\\Local\\Temp\\ipykernel_18452\\1967502967.py:2: DtypeWarning: Columns (6,11,18,20,22,28,29,31,32,50,51,53,54,59,67,68,72) have mixed types. Specify dtype option on import or set low_memory=False.\n",
      "  nov1 = pd.read_csv(\"12) Nov 2020 - 1.csv\")\n",
      "C:\\Users\\masud\\AppData\\Local\\Temp\\ipykernel_18452\\1967502967.py:3: DtypeWarning: Columns (5,11,28,29,50,51,53,54,59,67,68,72) have mixed types. Specify dtype option on import or set low_memory=False.\n",
      "  nov2 = pd.read_csv(\"12) Nov 2020 - 2.csv\")\n",
      "C:\\Users\\masud\\AppData\\Local\\Temp\\ipykernel_18452\\1967502967.py:4: DtypeWarning: Columns (50,51,53,54,68,72) have mixed types. Specify dtype option on import or set low_memory=False.\n",
      "  nov3 = pd.read_csv(\"12) Nov 2020 - 3.csv\")\n",
      "C:\\Users\\masud\\AppData\\Local\\Temp\\ipykernel_18452\\1967502967.py:5: DtypeWarning: Columns (59) have mixed types. Specify dtype option on import or set low_memory=False.\n",
      "  nov4 = pd.read_csv(\"12) Nov 2020 - 4.csv\")\n",
      "C:\\Users\\masud\\AppData\\Local\\Temp\\ipykernel_18452\\1967502967.py:6: DtypeWarning: Columns (11,28,50,51,53,54,56,59,67,68,72) have mixed types. Specify dtype option on import or set low_memory=False.\n",
      "  nov5 = pd.read_csv(\"12) Nov 2020 - 5.csv\")\n"
     ]
    }
   ],
   "source": [
    "# Importing October 2020 Dataset\n",
    "nov1 = pd.read_csv(\"12) Nov 2020 - 1.csv\")\n",
    "nov2 = pd.read_csv(\"12) Nov 2020 - 2.csv\")\n",
    "nov3 = pd.read_csv(\"12) Nov 2020 - 3.csv\")\n",
    "nov4 = pd.read_csv(\"12) Nov 2020 - 4.csv\")\n",
    "nov5 = pd.read_csv(\"12) Nov 2020 - 5.csv\")"
   ]
  },
  {
   "cell_type": "code",
   "execution_count": 56,
   "id": "6aa429bf",
   "metadata": {},
   "outputs": [],
   "source": [
    "# Remove All unnecessary Column\n",
    "nov1.drop(nov1.columns[column_to_drop], axis=1, inplace= True)\n",
    "nov2.drop(nov2.columns[column_to_drop], axis=1, inplace= True)\n",
    "nov3.drop(nov3.columns[column_to_drop], axis=1, inplace= True)\n",
    "nov4.drop(nov4.columns[column_to_drop], axis=1, inplace= True)\n",
    "nov5.drop(nov5.columns[column_to_drop], axis=1, inplace= True)"
   ]
  },
  {
   "cell_type": "code",
   "execution_count": 57,
   "id": "877116b6",
   "metadata": {},
   "outputs": [],
   "source": [
    "# Write Dataset \n",
    "nov1.to_csv(r'D:\\PROJECT\\Political Contribution Data Summary\\President (2019-2020)\\New folder\\Cleaned File\\12)_nov1.csv', index=False)\n",
    "nov2.to_csv(r'D:\\PROJECT\\Political Contribution Data Summary\\President (2019-2020)\\New folder\\Cleaned File\\12)_nov2.csv', index=False)\n",
    "nov3.to_csv(r'D:\\PROJECT\\Political Contribution Data Summary\\President (2019-2020)\\New folder\\Cleaned File\\12)_nov3.csv', index=False)\n",
    "nov4.to_csv(r'D:\\PROJECT\\Political Contribution Data Summary\\President (2019-2020)\\New folder\\Cleaned File\\12)_nov4.csv', index=False)\n",
    "nov5.to_csv(r'D:\\PROJECT\\Political Contribution Data Summary\\President (2019-2020)\\New folder\\Cleaned File\\12)_nov5.csv', index=False)\n"
   ]
  },
  {
   "cell_type": "markdown",
   "id": "dd845726",
   "metadata": {},
   "source": [
    "# Merge all the dataset by month "
   ]
  },
  {
   "cell_type": "code",
   "execution_count": 66,
   "id": "879b974c",
   "metadata": {},
   "outputs": [
    {
     "data": {
      "text/html": [
       "<div>\n",
       "<style scoped>\n",
       "    .dataframe tbody tr th:only-of-type {\n",
       "        vertical-align: middle;\n",
       "    }\n",
       "\n",
       "    .dataframe tbody tr th {\n",
       "        vertical-align: top;\n",
       "    }\n",
       "\n",
       "    .dataframe thead th {\n",
       "        text-align: right;\n",
       "    }\n",
       "</style>\n",
       "<table border=\"1\" class=\"dataframe\">\n",
       "  <thead>\n",
       "    <tr style=\"text-align: right;\">\n",
       "      <th></th>\n",
       "      <th>committee_id</th>\n",
       "      <th>committee_name</th>\n",
       "      <th>report_year</th>\n",
       "      <th>transaction_id</th>\n",
       "      <th>entity_type_desc</th>\n",
       "      <th>contributor_name</th>\n",
       "      <th>contributor_city</th>\n",
       "      <th>contributor_state</th>\n",
       "      <th>contributor_employer</th>\n",
       "      <th>contributor_occupation</th>\n",
       "      <th>contributor_id</th>\n",
       "      <th>contribution_receipt_date</th>\n",
       "      <th>contribution_receipt_amount</th>\n",
       "      <th>contributor_aggregate_ytd</th>\n",
       "      <th>fec_election_type_desc</th>\n",
       "      <th>amendment_indicator_desc</th>\n",
       "    </tr>\n",
       "  </thead>\n",
       "  <tbody>\n",
       "    <tr>\n",
       "      <th>0</th>\n",
       "      <td>C00717371</td>\n",
       "      <td>DAVID ROLDE 2020</td>\n",
       "      <td>2019</td>\n",
       "      <td>SA17A.4217</td>\n",
       "      <td>INDIVIDUAL</td>\n",
       "      <td>CUNNINGHAM, WILLIAM</td>\n",
       "      <td>CAMBRIDGE</td>\n",
       "      <td>MA</td>\n",
       "      <td>NaN</td>\n",
       "      <td>RETIRED</td>\n",
       "      <td>NaN</td>\n",
       "      <td>12/1/2019 0:00</td>\n",
       "      <td>25.0</td>\n",
       "      <td>25.00</td>\n",
       "      <td>PRIMARY</td>\n",
       "      <td>ADD</td>\n",
       "    </tr>\n",
       "    <tr>\n",
       "      <th>1</th>\n",
       "      <td>C00717371</td>\n",
       "      <td>DAVID ROLDE 2020</td>\n",
       "      <td>2019</td>\n",
       "      <td>SA17A.4214</td>\n",
       "      <td>INDIVIDUAL</td>\n",
       "      <td>DUNTON, REGINALD</td>\n",
       "      <td>FREEPORT</td>\n",
       "      <td>ME</td>\n",
       "      <td>BUCKS NAKED BBQ</td>\n",
       "      <td>DISH WASHER</td>\n",
       "      <td>NaN</td>\n",
       "      <td>12/1/2019 0:00</td>\n",
       "      <td>10.0</td>\n",
       "      <td>10.00</td>\n",
       "      <td>PRIMARY</td>\n",
       "      <td>ADD</td>\n",
       "    </tr>\n",
       "    <tr>\n",
       "      <th>2</th>\n",
       "      <td>C00717371</td>\n",
       "      <td>DAVID ROLDE 2020</td>\n",
       "      <td>2019</td>\n",
       "      <td>SA17A.4211</td>\n",
       "      <td>INDIVIDUAL</td>\n",
       "      <td>MONZON, JOSE</td>\n",
       "      <td>JERSEY CITY</td>\n",
       "      <td>NJ</td>\n",
       "      <td>LEGAL SERVICES NYC</td>\n",
       "      <td>DEVELOPMENT OFFICER</td>\n",
       "      <td>NaN</td>\n",
       "      <td>12/1/2019 0:00</td>\n",
       "      <td>10.0</td>\n",
       "      <td>10.00</td>\n",
       "      <td>PRIMARY</td>\n",
       "      <td>ADD</td>\n",
       "    </tr>\n",
       "    <tr>\n",
       "      <th>3</th>\n",
       "      <td>C00706598</td>\n",
       "      <td>PONY UP FOR VERMIN SUPREME</td>\n",
       "      <td>2019</td>\n",
       "      <td>SA17A.5806</td>\n",
       "      <td>INDIVIDUAL</td>\n",
       "      <td>POLLOK, DARREN</td>\n",
       "      <td>SEGUIN</td>\n",
       "      <td>TX</td>\n",
       "      <td>AGGREKO</td>\n",
       "      <td>OPERATOR</td>\n",
       "      <td>NaN</td>\n",
       "      <td>12/1/2019 0:00</td>\n",
       "      <td>25.0</td>\n",
       "      <td>413.49</td>\n",
       "      <td>PRIMARY</td>\n",
       "      <td>ADD</td>\n",
       "    </tr>\n",
       "    <tr>\n",
       "      <th>4</th>\n",
       "      <td>C00693234</td>\n",
       "      <td>WARREN FOR PRESIDENT, INC.</td>\n",
       "      <td>2019</td>\n",
       "      <td>5002311</td>\n",
       "      <td>INDIVIDUAL</td>\n",
       "      <td>ABEL, JOHN</td>\n",
       "      <td>ITHACA</td>\n",
       "      <td>NY</td>\n",
       "      <td>RETIRED</td>\n",
       "      <td>RETIRED</td>\n",
       "      <td>C00401224</td>\n",
       "      <td>12/1/2019 0:00</td>\n",
       "      <td>50.0</td>\n",
       "      <td>300.00</td>\n",
       "      <td>PRIMARY</td>\n",
       "      <td>ADD</td>\n",
       "    </tr>\n",
       "    <tr>\n",
       "      <th>...</th>\n",
       "      <td>...</td>\n",
       "      <td>...</td>\n",
       "      <td>...</td>\n",
       "      <td>...</td>\n",
       "      <td>...</td>\n",
       "      <td>...</td>\n",
       "      <td>...</td>\n",
       "      <td>...</td>\n",
       "      <td>...</td>\n",
       "      <td>...</td>\n",
       "      <td>...</td>\n",
       "      <td>...</td>\n",
       "      <td>...</td>\n",
       "      <td>...</td>\n",
       "      <td>...</td>\n",
       "      <td>...</td>\n",
       "    </tr>\n",
       "    <tr>\n",
       "      <th>673845</th>\n",
       "      <td>C00706572</td>\n",
       "      <td>COMMITTEE TO ELECT MARK CHARLES FOR PRESIDENT</td>\n",
       "      <td>2019</td>\n",
       "      <td>SA17A.8519</td>\n",
       "      <td>INDIVIDUAL</td>\n",
       "      <td>HALLSTROM, CAMILLE</td>\n",
       "      <td>CHATTANOOGA</td>\n",
       "      <td>TN</td>\n",
       "      <td>COVENANT COLLEGE</td>\n",
       "      <td>PROFESSOR</td>\n",
       "      <td>NaN</td>\n",
       "      <td>2019-12-31 00:00:00</td>\n",
       "      <td>50.0</td>\n",
       "      <td>250.00</td>\n",
       "      <td>PRIMARY</td>\n",
       "      <td>CHANGE</td>\n",
       "    </tr>\n",
       "    <tr>\n",
       "      <th>673846</th>\n",
       "      <td>C00706572</td>\n",
       "      <td>COMMITTEE TO ELECT MARK CHARLES FOR PRESIDENT</td>\n",
       "      <td>2019</td>\n",
       "      <td>SA17A.8530</td>\n",
       "      <td>INDIVIDUAL</td>\n",
       "      <td>MAY, STEPHEN</td>\n",
       "      <td>WAIKATO, NEW ZEALAND</td>\n",
       "      <td>ZZ</td>\n",
       "      <td>PATHLAB</td>\n",
       "      <td>DOCTOR</td>\n",
       "      <td>NaN</td>\n",
       "      <td>2019-12-31 00:00:00</td>\n",
       "      <td>500.0</td>\n",
       "      <td>500.00</td>\n",
       "      <td>PRIMARY</td>\n",
       "      <td>NO CHANGE</td>\n",
       "    </tr>\n",
       "    <tr>\n",
       "      <th>673847</th>\n",
       "      <td>C00706572</td>\n",
       "      <td>COMMITTEE TO ELECT MARK CHARLES FOR PRESIDENT</td>\n",
       "      <td>2019</td>\n",
       "      <td>SA17A.8540</td>\n",
       "      <td>INDIVIDUAL</td>\n",
       "      <td>OTTO, AIMEE</td>\n",
       "      <td>LYNN</td>\n",
       "      <td>MA</td>\n",
       "      <td>THE CHRISTIANBOOK GROUP</td>\n",
       "      <td>CONTENT COORDINATOR</td>\n",
       "      <td>NaN</td>\n",
       "      <td>2019-12-31 00:00:00</td>\n",
       "      <td>50.0</td>\n",
       "      <td>300.00</td>\n",
       "      <td>PRIMARY</td>\n",
       "      <td>NO CHANGE</td>\n",
       "    </tr>\n",
       "    <tr>\n",
       "      <th>673848</th>\n",
       "      <td>C00706572</td>\n",
       "      <td>COMMITTEE TO ELECT MARK CHARLES FOR PRESIDENT</td>\n",
       "      <td>2019</td>\n",
       "      <td>SA17A.8542</td>\n",
       "      <td>INDIVIDUAL</td>\n",
       "      <td>RAH, SOONG C</td>\n",
       "      <td>CHICAGO</td>\n",
       "      <td>IL</td>\n",
       "      <td>NPU</td>\n",
       "      <td>PROFESSOR</td>\n",
       "      <td>NaN</td>\n",
       "      <td>2019-12-31 00:00:00</td>\n",
       "      <td>500.0</td>\n",
       "      <td>543.00</td>\n",
       "      <td>PRIMARY</td>\n",
       "      <td>CHANGE</td>\n",
       "    </tr>\n",
       "    <tr>\n",
       "      <th>673849</th>\n",
       "      <td>C00706572</td>\n",
       "      <td>COMMITTEE TO ELECT MARK CHARLES FOR PRESIDENT</td>\n",
       "      <td>2019</td>\n",
       "      <td>SA17A.8547</td>\n",
       "      <td>INDIVIDUAL</td>\n",
       "      <td>VIAU, PATRICK</td>\n",
       "      <td>BRAMPTON</td>\n",
       "      <td>MI</td>\n",
       "      <td>MOHAWK FARM</td>\n",
       "      <td>HUNTER/GATHERER</td>\n",
       "      <td>NaN</td>\n",
       "      <td>2019-12-31 00:00:00</td>\n",
       "      <td>100.0</td>\n",
       "      <td>420.00</td>\n",
       "      <td>PRIMARY</td>\n",
       "      <td>CHANGE</td>\n",
       "    </tr>\n",
       "  </tbody>\n",
       "</table>\n",
       "<p>673850 rows × 16 columns</p>\n",
       "</div>"
      ],
      "text/plain": [
       "       committee_id                                 committee_name  \\\n",
       "0         C00717371                               DAVID ROLDE 2020   \n",
       "1         C00717371                               DAVID ROLDE 2020   \n",
       "2         C00717371                               DAVID ROLDE 2020   \n",
       "3         C00706598                     PONY UP FOR VERMIN SUPREME   \n",
       "4         C00693234                     WARREN FOR PRESIDENT, INC.   \n",
       "...             ...                                            ...   \n",
       "673845    C00706572  COMMITTEE TO ELECT MARK CHARLES FOR PRESIDENT   \n",
       "673846    C00706572  COMMITTEE TO ELECT MARK CHARLES FOR PRESIDENT   \n",
       "673847    C00706572  COMMITTEE TO ELECT MARK CHARLES FOR PRESIDENT   \n",
       "673848    C00706572  COMMITTEE TO ELECT MARK CHARLES FOR PRESIDENT   \n",
       "673849    C00706572  COMMITTEE TO ELECT MARK CHARLES FOR PRESIDENT   \n",
       "\n",
       "        report_year transaction_id entity_type_desc     contributor_name  \\\n",
       "0              2019     SA17A.4217       INDIVIDUAL  CUNNINGHAM, WILLIAM   \n",
       "1              2019     SA17A.4214       INDIVIDUAL     DUNTON, REGINALD   \n",
       "2              2019     SA17A.4211       INDIVIDUAL         MONZON, JOSE   \n",
       "3              2019     SA17A.5806       INDIVIDUAL       POLLOK, DARREN   \n",
       "4              2019        5002311       INDIVIDUAL           ABEL, JOHN   \n",
       "...             ...            ...              ...                  ...   \n",
       "673845         2019     SA17A.8519       INDIVIDUAL   HALLSTROM, CAMILLE   \n",
       "673846         2019     SA17A.8530       INDIVIDUAL         MAY, STEPHEN   \n",
       "673847         2019     SA17A.8540       INDIVIDUAL          OTTO, AIMEE   \n",
       "673848         2019     SA17A.8542       INDIVIDUAL         RAH, SOONG C   \n",
       "673849         2019     SA17A.8547       INDIVIDUAL        VIAU, PATRICK   \n",
       "\n",
       "            contributor_city contributor_state     contributor_employer  \\\n",
       "0                  CAMBRIDGE                MA                      NaN   \n",
       "1                   FREEPORT                ME          BUCKS NAKED BBQ   \n",
       "2                JERSEY CITY                NJ       LEGAL SERVICES NYC   \n",
       "3                     SEGUIN                TX                  AGGREKO   \n",
       "4                     ITHACA                NY                  RETIRED   \n",
       "...                      ...               ...                      ...   \n",
       "673845           CHATTANOOGA                TN         COVENANT COLLEGE   \n",
       "673846  WAIKATO, NEW ZEALAND                ZZ                  PATHLAB   \n",
       "673847                  LYNN                MA  THE CHRISTIANBOOK GROUP   \n",
       "673848               CHICAGO                IL                      NPU   \n",
       "673849              BRAMPTON                MI              MOHAWK FARM   \n",
       "\n",
       "       contributor_occupation contributor_id contribution_receipt_date  \\\n",
       "0                     RETIRED            NaN            12/1/2019 0:00   \n",
       "1                 DISH WASHER            NaN            12/1/2019 0:00   \n",
       "2         DEVELOPMENT OFFICER            NaN            12/1/2019 0:00   \n",
       "3                    OPERATOR            NaN            12/1/2019 0:00   \n",
       "4                     RETIRED      C00401224            12/1/2019 0:00   \n",
       "...                       ...            ...                       ...   \n",
       "673845              PROFESSOR            NaN       2019-12-31 00:00:00   \n",
       "673846                 DOCTOR            NaN       2019-12-31 00:00:00   \n",
       "673847    CONTENT COORDINATOR            NaN       2019-12-31 00:00:00   \n",
       "673848              PROFESSOR            NaN       2019-12-31 00:00:00   \n",
       "673849        HUNTER/GATHERER            NaN       2019-12-31 00:00:00   \n",
       "\n",
       "        contribution_receipt_amount  contributor_aggregate_ytd  \\\n",
       "0                              25.0                      25.00   \n",
       "1                              10.0                      10.00   \n",
       "2                              10.0                      10.00   \n",
       "3                              25.0                     413.49   \n",
       "4                              50.0                     300.00   \n",
       "...                             ...                        ...   \n",
       "673845                         50.0                     250.00   \n",
       "673846                        500.0                     500.00   \n",
       "673847                         50.0                     300.00   \n",
       "673848                        500.0                     543.00   \n",
       "673849                        100.0                     420.00   \n",
       "\n",
       "       fec_election_type_desc amendment_indicator_desc  \n",
       "0                     PRIMARY                      ADD  \n",
       "1                     PRIMARY                      ADD  \n",
       "2                     PRIMARY                      ADD  \n",
       "3                     PRIMARY                      ADD  \n",
       "4                     PRIMARY                      ADD  \n",
       "...                       ...                      ...  \n",
       "673845                PRIMARY                   CHANGE  \n",
       "673846                PRIMARY                NO CHANGE  \n",
       "673847                PRIMARY                NO CHANGE  \n",
       "673848                PRIMARY                   CHANGE  \n",
       "673849                PRIMARY                   CHANGE  \n",
       "\n",
       "[673850 rows x 16 columns]"
      ]
     },
     "execution_count": 66,
     "metadata": {},
     "output_type": "execute_result"
    }
   ],
   "source": [
    "dec_2019 = pd.concat([dec1, dec2], ignore_index = True)\n",
    "dec_2019"
   ]
  }
 ],
 "metadata": {
  "kernelspec": {
   "display_name": "Python 3 (ipykernel)",
   "language": "python",
   "name": "python3"
  },
  "language_info": {
   "codemirror_mode": {
    "name": "ipython",
    "version": 3
   },
   "file_extension": ".py",
   "mimetype": "text/x-python",
   "name": "python",
   "nbconvert_exporter": "python",
   "pygments_lexer": "ipython3",
   "version": "3.12.4"
  }
 },
 "nbformat": 4,
 "nbformat_minor": 5
}
